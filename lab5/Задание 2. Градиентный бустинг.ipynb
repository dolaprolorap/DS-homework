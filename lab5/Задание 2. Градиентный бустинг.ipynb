{
 "cells": [
  {
   "cell_type": "markdown",
   "metadata": {
    "id": "SySWVxYOhamY"
   },
   "source": [
    "В этом задании будет использоваться датасет boston из sklearn.datasets. Оставьте последние 25% объектов для контроля качества, разделив X и y на X_train, y_train и X_test, y_test.\n",
    "Целью задания будет реализовать простой вариант градиентного бустинга над регрессионными деревьями для случая квадратичной функции потерь."
   ]
  },
  {
   "cell_type": "code",
   "metadata": {
    "collapsed": true,
    "id": "77YBF_sNhamb",
    "ExecuteTime": {
     "end_time": "2024-11-29T16:24:49.252435Z",
     "start_time": "2024-11-29T16:24:49.248415Z"
    }
   },
   "source": [
    "from sklearn.ensemble import GradientBoostingRegressor\n",
    "%matplotlib inline\n",
    "from sklearn import tree\n",
    "from matplotlib import pyplot as plt\n",
    "from sklearn.datasets import fetch_california_housing\n",
    "from sklearn.model_selection import train_test_split\n",
    "from sklearn.metrics import mean_squared_error\n",
    "import numpy as np\n"
   ],
   "outputs": [],
   "execution_count": 55
  },
  {
   "cell_type": "code",
   "source": [
    "\n",
    "boston = fetch_california_housing()\n",
    "X = boston.data\n",
    "y = boston.target\n",
    "\n",
    "X_train, X_test, y_train, y_test = train_test_split(X, y, test_size=0.25, random_state=42)\n"
   ],
   "metadata": {
    "id": "-odV89Lli4ov",
    "ExecuteTime": {
     "end_time": "2024-11-29T14:52:41.199862Z",
     "start_time": "2024-11-29T14:52:34.928940Z"
    }
   },
   "outputs": [],
   "execution_count": 5
  },
  {
   "cell_type": "markdown",
   "metadata": {
    "id": "lYZ13BvJhamg"
   },
   "source": [
    "# Задание 1\n",
    "\n",
    "Бустинг - это метод построения композиций базовых алгоритмов с помощью последовательного добавления к текущей композиции нового алгоритма с некоторым коэффициентом. Градиентный бустинг обучает каждый новый алгоритм так, чтобы он приближал антиградиент ошибки по ответам композиции на обучающей выборке. Аналогично минимизации функций методом градиентного спуска, в градиентном бустинге мы подправляем композицию, изменяя алгоритм в направлении антиградиента ошибки. Воспользуйтесь формулой из лекций, задающей ответы на обучающей выборке, на которые нужно обучать новый алгоритм (фактически это лишь чуть более подробно расписанный градиент от ошибки), и получите частный ее случай, если функция потерь L - квадрат отклонения ответа композиции a(x) от правильного ответа y на данном x.\n",
    "\n",
    "Если вы давно не считали производную самостоятельно, вам поможет таблица производных элементарных функций (которую несложно найти в интернете) и правило дифференцирования сложной функции. После дифференцирования квадрата у вас возникнет множитель 2 — т.к. все равно предстоит выбирать коэффициент, с которым будет добавлен новый базовый алгоритм, проигнориуйте этот множитель при дальнейшем построении алгоритма.\n",
    "\n",
    "$L(y, z) = (y - z)^2$\n",
    "\n",
    "$L'_z(y, z) = 2(z - y) => (z - y)$"
   ]
  },
  {
   "cell_type": "code",
   "source": [
    "\n",
    "from sklearn.metrics import r2_score\n",
    "\n",
    "y_pred_train = np.full(X_train.shape, np.mean(y_train))\n",
    "y_pred_test = y_train.copy()\n",
    "\n",
    "class GradientBoostingModel:\n",
    "    def __init__(self,\n",
    "                 n_estimators: int = 100,\n",
    "                 learning_rate = lambda i: 0.1,\n",
    "                 max_depth: int = 3,\n",
    "                 random_state: int = 42):\n",
    "        self.trees = []\n",
    "        self.n_estimators = n_estimators\n",
    "        self.learning_rate = learning_rate\n",
    "        self.max_depth = max_depth\n",
    "        self.avr_y = 0\n",
    "        self.random_state = random_state\n",
    "    \n",
    "    def fit(self, X, y):\n",
    "        self.avr_y = np.mean(y)\n",
    "        y_pred = np.full(y.shape, self.avr_y)\n",
    "        for i in range(self.n_estimators):\n",
    "            r = y - y_pred\n",
    "            new_tree = tree.DecisionTreeRegressor(\n",
    "                max_depth=self.max_depth, \n",
    "                random_state=self.random_state\n",
    "            )\n",
    "            new_tree.fit(X, r)\n",
    "            y_pred += self.learning_rate(i) * new_tree.predict(X)\n",
    "            self.trees.append(new_tree)\n",
    "        \n",
    "    def predict(self, X):\n",
    "        y_pred = np.full((X.shape[0], ), self.avr_y).astype(np.float64)\n",
    "        for i, reg_tree in enumerate(self.trees):\n",
    "            y_pred += self.learning_rate(i) * reg_tree.predict(X)\n",
    "        return y_pred\n",
    "        \n",
    "gbm = GradientBoostingModel()\n",
    "gbm.fit(X_train, y_train)\n",
    "\n",
    "y_pred_train = gbm.predict(X_train)\n",
    "y_pred_test = gbm.predict(X_test)\n",
    "\n",
    "print(\"Train RMSE:\", mean_squared_error(y_train, y_pred_train) ** 0.5)\n",
    "print(\"R2 Score train:\", r2_score(y_train, y_pred_train))\n",
    "\n",
    "print(\"Test RMSE:\", mean_squared_error(y_test, y_pred_test) ** 0.5)\n",
    "print(\"R2 Score test:\", r2_score(y_test, y_pred_test))\n",
    "\n"
   ],
   "metadata": {
    "id": "ib0urO8djQuv",
    "ExecuteTime": {
     "end_time": "2024-11-29T16:06:35.409007Z",
     "start_time": "2024-11-29T16:06:32.528380Z"
    }
   },
   "outputs": [
    {
     "name": "stdout",
     "output_type": "stream",
     "text": [
      "Train RMSE: 0.5085602878054316\n",
      "R2 Score train: 0.8061675157085277\n",
      "Test RMSE: 0.5383911867895413\n",
      "R2 Score test: 0.780939310808717\n"
     ]
    }
   ],
   "execution_count": 41
  },
  {
   "cell_type": "markdown",
   "metadata": {
    "id": "lpXmPb2Khamh"
   },
   "source": [
    "### Задание 2\n",
    "Заведите массив для объектов DecisionTreeRegressor (будем их использовать в качестве базовых алгоритмов) и для вещественных чисел (это будут коэффициенты перед базовыми алгоритмами). В цикле обучите последовательно 50 решающих деревьев с параметрами max_depth=5 и random_state=42 (остальные параметры - по умолчанию). В бустинге зачастую используются сотни и тысячи деревьев, но мы ограничимся 50, чтобы алгоритм работал быстрее, и его было проще отлаживать (т.к. цель задания разобраться, как работает метод). Каждое дерево должно обучаться на одном и том же множестве объектов, но ответы, которые учится прогнозировать дерево, будут меняться в соответствие с полученным в задании 1 правилом. Попробуйте для начала всегда брать коэффициент равным 0.9. Обычно оправдано выбирать коэффициент значительно меньшим - порядка 0.05 или 0.1, но т.к. в нашем учебном примере на стандартном датасете будет всего 50 деревьев, возьмем для начала шаг побольше.\n",
    "В процессе реализации обучения вам потребуется функция, которая будет вычислять прогноз построенной на данный момент композиции деревьев на выборке X:\n",
    "\n",
    "`def gbm_predict(X):\n",
    "    return [sum([coeff * algo.predict([x])[0] for algo, coeff in zip(base_algorithms_list, coefficients_list)]) for x in X]`\n",
    "    \n",
    "(считаем, что base_algorithms_list - список с базовыми алгоритмами, coefficients_list - список с коэффициентами перед алгоритмами)\n",
    "Эта же функция поможет вам получить прогноз на контрольной выборке и оценить качество работы вашего алгоритма с помощью mean_squared_error в sklearn.metrics. Возведите результат в степень 0.5, чтобы получить RMSE."
   ]
  },
  {
   "cell_type": "code",
   "metadata": {
    "collapsed": true,
    "id": "zJKvP0AOhami",
    "ExecuteTime": {
     "end_time": "2024-11-29T16:07:51.268489Z",
     "start_time": "2024-11-29T16:07:48.799710Z"
    }
   },
   "source": [
    "gbm = GradientBoostingModel(n_estimators=50, learning_rate=lambda i: 0.9, max_depth=5)\n",
    "gbm.fit(X_train, y_train)\n",
    "\n",
    "y_pred_train = gbm.predict(X_train)\n",
    "y_pred_test = gbm.predict(X_test)\n",
    "\n",
    "print(\"Train RMSE:\", mean_squared_error(y_train, y_pred_train) ** 0.5)\n",
    "print(\"R2 Score train:\", r2_score(y_train, y_pred_train))\n",
    "\n",
    "print(\"Test RMSE:\", mean_squared_error(y_test, y_pred_test) ** 0.5)\n",
    "print(\"R2 Score test:\", r2_score(y_test, y_pred_test))\n"
   ],
   "outputs": [
    {
     "name": "stdout",
     "output_type": "stream",
     "text": [
      "Train RMSE: 0.3342946628726641\n",
      "R2 Score train: 0.9162469638702488\n",
      "Test RMSE: 0.5412955700543535\n",
      "R2 Score test: 0.7785694640418285\n"
     ]
    }
   ],
   "execution_count": 46
  },
  {
   "cell_type": "markdown",
   "metadata": {
    "id": "U9NcCEZ1hamk"
   },
   "source": [
    "\n",
    "### Задание 3\n",
    "\n",
    "Двигаясь с постоянным шагом, вблизи минимума ошибки ответы на обучающей выборке меняются слишком резко, перескакивая через минимум. Попробуйте уменьшать вес перед каждым алгоритмом с каждой следующей итерацией по формуле 0.9 / (1.0 + i), где i - номер итерации (от 0 до 49). Используйте качество работы алгоритма как ответ в пункте 3. В реальности часто применяется следующая стратегия выбора шага: как только выбран алгоритм, подберем коэффициент перед ним численным методом оптимизации таким образом, чтобы отклонение от правильных ответов было минимальным."
   ]
  },
  {
   "metadata": {
    "ExecuteTime": {
     "end_time": "2024-11-29T16:09:00.780896Z",
     "start_time": "2024-11-29T16:08:58.351047Z"
    }
   },
   "cell_type": "code",
   "source": [
    "\n",
    "gbm = GradientBoostingModel(\n",
    "    n_estimators=50, \n",
    "    learning_rate=lambda i: 0.9 / (1.0 + i), \n",
    "    max_depth=5,\n",
    ")\n",
    "# PS, при base / (1.0 + i * 0.1) R2 Score test: 0.8099317468893706\n",
    "gbm.fit(X_train, y_train)\n",
    "\n",
    "y_pred_train = gbm.predict(X_train)\n",
    "y_pred_test = gbm.predict(X_test)\n",
    "\n",
    "print(\"Train RMSE:\", mean_squared_error(y_train, y_pred_train) ** 0.5)\n",
    "print(\"R2 Score train:\", r2_score(y_train, y_pred_train))\n",
    "\n",
    "print(\"Test RMSE:\", mean_squared_error(y_test, y_pred_test) ** 0.5)\n",
    "print(\"R2 Score test:\", r2_score(y_test, y_pred_test))\n"
   ],
   "outputs": [
    {
     "name": "stdout",
     "output_type": "stream",
     "text": [
      "Train RMSE: 0.5229285071988655\n",
      "R2 Score train: 0.7950601994167152\n",
      "Test RMSE: 0.5670604318332603\n",
      "R2 Score test: 0.7569882605467848\n"
     ]
    }
   ],
   "execution_count": 49
  },
  {
   "cell_type": "markdown",
   "metadata": {
    "id": "ghSkDqHphaml"
   },
   "source": [
    "### Задание 4\n",
    "\n",
    "Реализованный вами метод - градиентный бустинг над деревьями - очень популярен в машинном обучении. Он представлен как в самой библиотеке sklearn, так и в сторонней библиотеке XGBoost, которая имеет свой питоновский интерфейс. На практике XGBoost работает заметно лучше GradientBoostingRegressor из sklearn, но для этого задания вы можете использовать любую реализацию. Исследуйте, переобучается ли градиентный бустинг с ростом числа итераций (и подумайте, почему), а также с ростом глубины деревьев. На основе наблюдений выпишите через пробел номера правильных из приведенных ниже утверждений в порядке возрастания номера:\n",
    "\n",
    "  1. С увеличением числа деревьев начиная с некоторого момента качество работы градиентного бустинга не меняется существенно.\n",
    "  2. С увеличением числа деревьев начиная с некоторого момента градиентный бустинг начинает переобучаться.\n",
    "  3. С ростом глубины деревьев, начиная с некоторого момента, качество работы градиентного бустинга на тестовой выборке начинает ухудшаться\n",
    "  4. С ростом глубины деревьев, начиная с некоторого момента, качество работы градиентного бустинга перестает существенно изменяться"
   ]
  },
  {
   "metadata": {
    "ExecuteTime": {
     "end_time": "2024-11-29T16:16:04.303905Z",
     "start_time": "2024-11-29T16:16:01.781244Z"
    }
   },
   "cell_type": "code",
   "source": [
    "\n",
    "gbr = GradientBoostingRegressor(\n",
    "    n_estimators=50, \n",
    "    learning_rate=0.9, \n",
    "    max_depth=5,\n",
    "    random_state=42,\n",
    ")\n",
    "\n",
    "gbr.fit(X_train, y_train)\n",
    "\n",
    "y_pred_train = gbr.predict(X_train)\n",
    "y_pred_test = gbr.predict(X_test)\n",
    "\n",
    "print(\"Train RMSE:\", mean_squared_error(y_train, y_pred_train) ** 0.5)\n",
    "print(\"R2 Score train:\", r2_score(y_train, y_pred_train))\n",
    "\n",
    "print(\"Test RMSE:\", mean_squared_error(y_test, y_pred_test) ** 0.5)\n",
    "print(\"R2 Score test:\", r2_score(y_test, y_pred_test))\n"
   ],
   "outputs": [
    {
     "name": "stdout",
     "output_type": "stream",
     "text": [
      "Train RMSE: 0.3342946628726641\n",
      "R2 Score train: 0.9162469638702488\n",
      "Test RMSE: 0.5456027928524239\n",
      "R2 Score test: 0.7750314884121761\n"
     ]
    }
   ],
   "execution_count": 54
  },
  {
   "cell_type": "markdown",
   "metadata": {
    "id": "q5WYFmJDhaml"
   },
   "source": [
    "#### Зависимость от числа деревьев"
   ]
  },
  {
   "cell_type": "code",
   "source": [
    "tree_count = [5, 15, 25, 50, 75, 100, 150, 200, 250, 300, 400, 500]\n",
    "r2_list = []\n",
    "rmse_list = []\n",
    "\n",
    "for cnt in tree_count:\n",
    "    gbr = GradientBoostingRegressor(\n",
    "        n_estimators=cnt,\n",
    "        learning_rate=0.9,\n",
    "        max_depth=5,\n",
    "        random_state=42,\n",
    "    )\n",
    "    gbr.fit(X_train, y_train)\n",
    "    r2 = r2_score(y_test, gbr.predict(X_test))\n",
    "    rmse = mean_squared_error(y_test, gbr.predict(X_test)) ** 0.5\n",
    "    r2_list.append(r2)\n",
    "    rmse_list.append(rmse)\n",
    "\n",
    "f, (ax1, ax2) = plt.subplots(1, 2)\n",
    "ax1.plot(tree_count, r2_list, label='r2')\n",
    "ax2.plot(tree_count, rmse_list, label='rmse')\n",
    "    "
   ],
   "metadata": {
    "id": "wiL8wjpXklkp",
    "ExecuteTime": {
     "end_time": "2024-11-29T16:48:17.259990Z",
     "start_time": "2024-11-29T16:46:38.346881Z"
    }
   },
   "outputs": [
    {
     "data": {
      "text/plain": [
       "[<matplotlib.lines.Line2D at 0x7fc41d39c050>]"
      ]
     },
     "execution_count": 59,
     "metadata": {},
     "output_type": "execute_result"
    },
    {
     "data": {
      "text/plain": [
       "<Figure size 640x480 with 2 Axes>"
      ],
      "image/png": "[encoded data removed]"
     },
     "metadata": {},
     "output_type": "display_data"
    }
   ],
   "execution_count": 59
  },
  {
   "cell_type": "markdown",
   "metadata": {
    "id": "f9LkSljJhamm"
   },
   "source": "#### Зависимость от глубины дерева"
  },
  {
   "cell_type": "code",
   "source": [
    "\n",
    "max_depth_count = [1, 2, 3, 4, 5, 6, 7, 8, 9, 10, 11, 12]\n",
    "r2_list = []\n",
    "rmse_list = []\n",
    "\n",
    "for depth in max_depth_count:\n",
    "    gbr = GradientBoostingRegressor(\n",
    "        n_estimators=100,\n",
    "        learning_rate=0.9,\n",
    "        max_depth=depth,\n",
    "        random_state=42,\n",
    "    )\n",
    "    gbr.fit(X_train, y_train)\n",
    "    r2 = r2_score(y_test, gbr.predict(X_test))\n",
    "    rmse = mean_squared_error(y_test, gbr.predict(X_test)) ** 0.5\n",
    "    r2_list.append(r2)\n",
    "    rmse_list.append(rmse)\n",
    "\n",
    "f, (ax1, ax2) = plt.subplots(1, 2)\n",
    "ax1.plot(max_depth_count, r2_list, 'o', label='r2')\n",
    "ax2.plot(max_depth_count, rmse_list, 'o', label='rmse')\n"
   ],
   "metadata": {
    "id": "v3Wj6iytkmyf",
    "ExecuteTime": {
     "end_time": "2024-11-29T16:50:48.446169Z",
     "start_time": "2024-11-29T16:49:35.064370Z"
    }
   },
   "outputs": [
    {
     "data": {
      "text/plain": [
       "[<matplotlib.lines.Line2D at 0x7fc41c786d50>]"
      ]
     },
     "execution_count": 60,
     "metadata": {},
     "output_type": "execute_result"
    },
    {
     "data": {
      "text/plain": [
       "<Figure size 640x480 with 2 Axes>"
      ],
      "image/png": "[encoded data removed]"
     },
     "metadata": {},
     "output_type": "display_data"
    }
   ],
   "execution_count": 60
  },
  {
   "metadata": {},
   "cell_type": "markdown",
   "source": [
    "\n",
    "Ответы: 2 3\n"
   ]
  },
  {
   "cell_type": "markdown",
   "metadata": {
    "id": "x0qlAIrfhamn"
   },
   "source": [
    "### Задание 5\n",
    "\n",
    "Сравните получаемое с помощью градиентного бустинга качество с качеством работы линейной регрессии. Для этого обучите LinearRegression из sklearn.linear_model (с параметрами по умолчанию) на обучающей выборке и оцените для прогнозов полученного алгоритма на тестовой выборке RMSE. В данном примере качество работы простой модели должно было оказаться хуже, но не стоит забывать, что так бывает не всегда."
   ]
  },
  {
   "cell_type": "code",
   "metadata": {
    "collapsed": true,
    "id": "Dw9DKLMghamo",
    "ExecuteTime": {
     "end_time": "2024-11-29T16:58:04.066690Z",
     "start_time": "2024-11-29T16:58:01.042108Z"
    }
   },
   "source": [
    "from sklearn.linear_model import LinearRegression\n",
    "\n",
    "lr = LinearRegression()\n",
    "lr.fit(X_train, y_train)\n",
    "\n",
    "gbr = GradientBoostingRegressor()\n",
    "gbr.fit(X_train, y_train)\n",
    "\n",
    "print(\"Test r2 linear regressor:\", r2_score(y_test, lr.predict(X_test)))\n",
    "print(\"Test rmse linear regressor:\", mean_squared_error(y_test, lr.predict(X_test)) ** 0.5)\n",
    "\n",
    "print(\"Test r2 gradient boosting regressor:\", r2_score(y_test, gbr.predict(X_test)))\n",
    "print(\"Test rmse gradient boosting regressor:\", mean_squared_error(y_test, gbr.predict(X_test)) ** 0.5)\n"
   ],
   "outputs": [
    {
     "name": "stdout",
     "output_type": "stream",
     "text": [
      "Test r2 linear regressor: 0.5910509795491352\n",
      "Test rmse linear regressor: 0.7356145375446768\n",
      "Test r2 gradient boosting regressor: 0.7813223330965439\n",
      "Test rmse gradient boosting regressor: 0.5379202989168684\n"
     ]
    }
   ],
   "execution_count": 61
  },
  {
   "metadata": {},
   "cell_type": "code",
   "outputs": [],
   "execution_count": null,
   "source": ""
  }
 ],
 "metadata": {
  "kernelspec": {
   "display_name": "Python 3 (ipykernel)",
   "language": "python",
   "name": "python3"
  },
  "language_info": {
   "codemirror_mode": {
    "name": "ipython",
    "version": 2
   },
   "file_extension": ".py",
   "mimetype": "text/x-python",
   "name": "python",
   "nbconvert_exporter": "python",
   "pygments_lexer": "ipython2",
   "version": "2.7.11"
  },
  "colab": {
   "provenance": []
  }
 },
 "nbformat": 4,
 "nbformat_minor": 0
}
