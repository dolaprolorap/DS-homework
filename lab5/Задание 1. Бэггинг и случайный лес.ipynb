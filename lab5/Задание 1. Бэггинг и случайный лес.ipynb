{
 "cells": [
  {
   "cell_type": "markdown",
   "metadata": {
    "id": "CkLlg2KZha_T"
   },
   "source": [
    "# Бэггинг и случайный лес"
   ]
  },
  {
   "cell_type": "markdown",
   "metadata": {
    "id": "8w-YE_zRha_W"
   },
   "source": [
    "Загрузите датасет digits с помощью функции load_digits из sklearn.datasets и подготовьте матрицу признаков X и ответы на обучающей выборке y (вам потребуются поля data и target в объекте, который возвращает load_digits).\n",
    "Для оценки качества далее нужно будет использовать cross_val_score из sklearn.cross_validation с параметром cv=10. Эта функция реализует k-fold cross validation c k равным значению параметра cv. Функция cross_val_score будет возвращать numpy.ndarray, в котором будет k чисел - качество в каждом из k экспериментов k-fold cross validation. Для получения среднего значения (которое и будет оценкой качества работы) вызовите метод .mean() у массива, который возвращает cross_val_score.\n",
    "\n",
    "Если вам захочется ускорить вычисление cross_val_score - можете попробовать использовать параметр n_jobs."
   ]
  },
  {
   "cell_type": "code",
   "metadata": {
    "collapsed": true,
    "id": "MlAw4VdSha_X",
    "ExecuteTime": {
     "end_time": "2024-11-28T14:54:33.566917Z",
     "start_time": "2024-11-28T14:54:33.561400Z"
    }
   },
   "source": [
    "%matplotlib inline\n",
    "from sklearn import datasets\n",
    "from sklearn.tree import DecisionTreeClassifier\n",
    "from sklearn.ensemble import BaggingClassifier, RandomForestClassifier\n",
    "import numpy as np\n",
    "import pandas as pd\n",
    "from matplotlib import pyplot as plt\n",
    "import seaborn"
   ],
   "outputs": [],
   "execution_count": 9
  },
  {
   "cell_type": "code",
   "metadata": {
    "id": "VHIPozbWha_a",
    "ExecuteTime": {
     "end_time": "2024-11-28T14:54:33.972776Z",
     "start_time": "2024-11-28T14:54:33.963286Z"
    }
   },
   "source": [
    "\n",
    "digits = datasets.load_digits()\n",
    "X = digits.data\n",
    "y = digits.target\n"
   ],
   "outputs": [],
   "execution_count": 10
  },
  {
   "cell_type": "markdown",
   "metadata": {
    "id": "w4LcPJ0Jha_b"
   },
   "source": [
    "### Шаг 1\n",
    "Создайте DecisionTreeClassifier с настройками по умолчанию и измерьте качество его работы с помощью cross_val_score."
   ]
  },
  {
   "cell_type": "code",
   "source": [
    "from sklearn.model_selection import cross_val_score\n",
    "\n",
    "clf = DecisionTreeClassifier()\n",
    "cross_val_score(clf, X, y, cv=10)"
   ],
   "metadata": {
    "id": "mb1huconh6gk",
    "ExecuteTime": {
     "end_time": "2024-11-28T14:54:35.151405Z",
     "start_time": "2024-11-28T14:54:34.945819Z"
    }
   },
   "outputs": [
    {
     "data": {
      "text/plain": [
       "array([0.77222222, 0.85      , 0.82222222, 0.80555556, 0.78333333,\n",
       "       0.88333333, 0.88888889, 0.81005587, 0.83240223, 0.79888268])"
      ]
     },
     "execution_count": 11,
     "metadata": {},
     "output_type": "execute_result"
    }
   ],
   "execution_count": 11
  },
  {
   "cell_type": "markdown",
   "metadata": {
    "id": "RVBa5JdTha_c"
   },
   "source": [
    "### Шаг 2\n",
    "\n",
    "Воспользуйтесь BaggingClassifier из sklearn.ensemble, чтобы обучить бэггинг над DecisionTreeClassifier. Используйте в BaggingClassifier параметры по умолчанию, задав только количество деревьев равным 100."
   ]
  },
  {
   "cell_type": "code",
   "source": [
    "bclf = BaggingClassifier(clf, n_estimators=100)\n",
    "cross_val_score(bclf, X, y, cv=10)"
   ],
   "metadata": {
    "id": "Y41aypEEh71g",
    "ExecuteTime": {
     "end_time": "2024-11-28T14:54:47.267570Z",
     "start_time": "2024-11-28T14:54:37.015915Z"
    }
   },
   "outputs": [
    {
     "data": {
      "text/plain": [
       "array([0.87222222, 0.94444444, 0.90555556, 0.91666667, 0.91111111,\n",
       "       0.98888889, 0.96666667, 0.91061453, 0.87150838, 0.91620112])"
      ]
     },
     "execution_count": 12,
     "metadata": {},
     "output_type": "execute_result"
    }
   ],
   "execution_count": 12
  },
  {
   "cell_type": "markdown",
   "metadata": {
    "id": "RHFYUwcKha_f"
   },
   "source": [
    "### Шаг 3\n",
    "Теперь изучите параметры BaggingClassifier и выберите их такими, чтобы каждый базовый алгоритм обучался не на всех d признаках, а на $\\sqrt{d}$ случайных признаков. Корень из числа признаков - часто используемая эвристика в задачах классификации, в задачах регрессии же часто берут число признаков, деленное на три. Но в общем случае ничто не мешает вам выбирать любое другое число случайных признаков."
   ]
  },
  {
   "cell_type": "code",
   "source": [
    "\n",
    "feature_num = X.shape[1]\n",
    "bclf_sqrt = BaggingClassifier(clf, max_features=int(np.sqrt(feature_num)), n_estimators=100)\n",
    "cross_val_score(bclf, X, y, cv=10)\n"
   ],
   "metadata": {
    "id": "vkaDwV1MiAa8",
    "ExecuteTime": {
     "end_time": "2024-11-28T14:55:02.217452Z",
     "start_time": "2024-11-28T14:54:51.970287Z"
    }
   },
   "outputs": [
    {
     "data": {
      "text/plain": [
       "array([0.87222222, 0.96666667, 0.92222222, 0.91111111, 0.93333333,\n",
       "       0.98333333, 0.95555556, 0.91620112, 0.87150838, 0.93296089])"
      ]
     },
     "execution_count": 13,
     "metadata": {},
     "output_type": "execute_result"
    }
   ],
   "execution_count": 13
  },
  {
   "cell_type": "markdown",
   "metadata": {
    "id": "9jrDgt6-ha_g"
   },
   "source": [
    "### Шаг 4\n",
    "Наконец, давайте попробуем выбирать случайные признаки не один раз на все дерево, а при построении каждой вершины дерева. Сделать это несложно: нужно убрать выбор случайного подмножества признаков в BaggingClassifier и добавить его в DecisionTreeClassifier. Какой параметр за это отвечает, можно понять из документации sklearn, либо просто попробовать угадать (скорее всего, у вас сразу получится). Попробуйте выбирать опять же $\\sqrt{d}$ признаков."
   ]
  },
  {
   "cell_type": "code",
   "source": [
    "\n",
    "global_feature_num = X.shape[1]\n",
    "clf = DecisionTreeClassifier(max_features=int(np.sqrt(global_feature_num)))\n",
    "bclf_random = BaggingClassifier(clf, n_estimators=100)\n",
    "cross_val_score(bclf_random, X, y, cv=10)\n"
   ],
   "metadata": {
    "id": "RL9SE6HMiJs_",
    "ExecuteTime": {
     "end_time": "2024-11-28T14:55:09.149563Z",
     "start_time": "2024-11-28T14:55:06.361301Z"
    }
   },
   "outputs": [
    {
     "data": {
      "text/plain": [
       "array([0.91111111, 0.97222222, 0.92777778, 0.93888889, 0.96666667,\n",
       "       0.98333333, 0.97777778, 0.97206704, 0.93296089, 0.94413408])"
      ]
     },
     "execution_count": 14,
     "metadata": {},
     "output_type": "execute_result"
    }
   ],
   "execution_count": 14
  },
  {
   "cell_type": "markdown",
   "metadata": {
    "id": "fzt8O5Zjha_g"
   },
   "source": [
    "### Шаг 5\n",
    "\n",
    "Полученный в пункте 4 классификатор - бэггинг на рандомизированных деревьях (в которых при построении каждой вершины выбирается случайное подмножество признаков и разбиение ищется только по ним). Это в точности соответствует алгоритму Random Forest, поэтому почему бы не сравнить качество работы классификатора с RandomForestClassifier из sklearn.ensemble. Сделайте это, а затем изучите, как качество классификации на данном датасете зависит от количества деревьев, количества признаков, выбираемых при построении каждой вершины дерева, а также ограничений на глубину дерева. Для наглядности постройте графики зависимости качества от значений параметров.\n",
    "\n",
    "На основе наблюдений выпишите через пробел номера правильных утверждений из приведенных ниже в порядке возрастания номера\n",
    "\n",
    "  1. Случайный лес сильно переобучается с ростом количества деревьев\n",
    "  2. При очень маленьком числе деревьев (5, 10, 15), случайный лес работает хуже, чем при большем числе деревьев\n",
    "  3. С ростом количества деревьев в случайном лесе, в какой-то момент деревьев становится достаточно для высокого качества классификации, а затем качество существенно не меняется.\n",
    "  4. При большом количестве признаков (для данного датасета - 40, 50) качество классификации становится хуже, чем при малом количестве признаков (5, 10). Это связано с тем, что чем меньше признаков выбирается в каждом узле, тем более различными получаются деревья (ведь деревья сильно неустойчивы к изменениям в обучающей выборке), и тем лучше работает их композиция.\n",
    "  5. При большом количестве признаков (40, 50, 60) качество классификации лучше, чем при малом количестве признаков (5, 10). Это связано с тем, что чем больше признаков - тем больше информации об объектах, а значит алгоритм может делать прогнозы более точно.\n",
    "  6. При небольшой максимальной глубине деревьев (5-6) качество работы случайного леса намного лучше, чем без ограничения глубины, т.к. деревья получаются не переобученными. С ростом глубины деревьев качество ухудшается.\n",
    "  7. При небольшой максимальной глубине деревьев (5-6) качество работы случайного леса заметно хуже, чем без ограничений, т.к. деревья получаются недообученными. С ростом глубины качество сначала улучшается, а затем не меняется существенно, т.к. из-за усреднения прогнозов и различий деревьев их переобученность в бэггинге не сказывается на итоговом качестве (все деревья преобучены по-разному, и при усреднении они компенсируют переобученность друг-друга)."
   ]
  },
  {
   "cell_type": "code",
   "source": "2 3 4 7",
   "metadata": {
    "id": "iksN9G7hicTv"
   },
   "execution_count": null,
   "outputs": []
  },
  {
   "cell_type": "markdown",
   "metadata": {
    "id": "V6EwstwOha_h"
   },
   "source": [
    "#### Зависимость от количества деревьев"
   ]
  },
  {
   "cell_type": "code",
   "metadata": {
    "id": "RJEFJzwwha_h",
    "ExecuteTime": {
     "end_time": "2024-11-28T15:18:49.063978Z",
     "start_time": "2024-11-28T15:18:39.214188Z"
    }
   },
   "source": [
    "\n",
    "tree_counts = [1, 2, 3, 5, 7, 10, 50, 100, 200, 350, 500]\n",
    "scores = []\n",
    "for tree_count in tree_counts:\n",
    "    rfc = RandomForestClassifier(n_estimators=tree_count, max_features=int(np.sqrt(global_feature_num)))\n",
    "    scores.append(np.mean(cross_val_score(rfc, X, y, cv=10, n_jobs=4)))\n",
    "    \n",
    "plt.plot(tree_counts, scores, 'o')\n"
   ],
   "outputs": [
    {
     "data": {
      "text/plain": [
       "[<matplotlib.lines.Line2D at 0x7f8d8149e0d0>]"
      ]
     },
     "execution_count": 24,
     "metadata": {},
     "output_type": "execute_result"
    },
    {
     "data": {
      "text/plain": [
       "<Figure size 640x480 with 1 Axes>"
      ],
      "image/png": "[encoded data removed]"
     },
     "metadata": {},
     "output_type": "display_data"
    }
   ],
   "execution_count": 24
  },
  {
   "cell_type": "markdown",
   "metadata": {
    "id": "mEp4itOCha_i"
   },
   "source": [
    "#### Зависимость от количества признаков"
   ]
  },
  {
   "cell_type": "code",
   "source": [
    "\n",
    "feature_powers = [0.5, 0.55, 0.6, 0.65, 0.7, 0.75, 0.8, 0.85, 0.9, 0.95, 1]\n",
    "scores = []\n",
    "for power in feature_powers:\n",
    "    rfc = RandomForestClassifier(n_estimators=100, max_features=int(global_feature_num ** power))\n",
    "    scores.append(np.mean(cross_val_score(rfc, X, y, cv=10, n_jobs=4)))\n",
    "    \n",
    "plt.plot(feature_powers, scores, 'o')\n"
   ],
   "metadata": {
    "id": "My_vsyyiifPl",
    "ExecuteTime": {
     "end_time": "2024-11-28T15:21:49.359584Z",
     "start_time": "2024-11-28T15:21:31.214996Z"
    }
   },
   "outputs": [
    {
     "data": {
      "text/plain": [
       "[<matplotlib.lines.Line2D at 0x7f8d813d9750>]"
      ]
     },
     "execution_count": 27,
     "metadata": {},
     "output_type": "execute_result"
    },
    {
     "data": {
      "text/plain": [
       "<Figure size 640x480 with 1 Axes>"
      ],
      "image/png": "[encoded data removed]"
     },
     "metadata": {},
     "output_type": "display_data"
    }
   ],
   "execution_count": 27
  },
  {
   "cell_type": "markdown",
   "metadata": {
    "id": "_DuRP3bzha_j"
   },
   "source": [
    "#### Зависимость от глубины деревьев"
   ]
  },
  {
   "cell_type": "code",
   "metadata": {
    "collapsed": true,
    "id": "6U-mgaFUha_j",
    "ExecuteTime": {
     "end_time": "2024-11-28T15:26:53.296980Z",
     "start_time": "2024-11-28T15:26:45.013745Z"
    }
   },
   "source": [
    "\n",
    "depths = [2, 3, 5, 7, 10, 13, 16, 20, 25, 30, 35, 40]\n",
    "scores = []\n",
    "for depth in depths:\n",
    "    rfc = RandomForestClassifier(n_estimators=100, max_features=int(global_feature_num ** 0.5), max_depth=depth)\n",
    "    scores.append(np.mean(cross_val_score(rfc, X, y, cv=10, n_jobs=4)))\n",
    "\n",
    "plt.plot(depths, scores, 'o')\n"
   ],
   "outputs": [
    {
     "data": {
      "text/plain": [
       "[<matplotlib.lines.Line2D at 0x7f8d81276850>]"
      ]
     },
     "execution_count": 28,
     "metadata": {},
     "output_type": "execute_result"
    },
    {
     "data": {
      "text/plain": [
       "<Figure size 640x480 with 1 Axes>"
      ],
      "image/png": "[encoded data removed]"
     },
     "metadata": {},
     "output_type": "display_data"
    }
   ],
   "execution_count": 28
  },
  {
   "metadata": {},
   "cell_type": "code",
   "outputs": [],
   "execution_count": null,
   "source": ""
  }
 ],
 "metadata": {
  "kernelspec": {
   "display_name": "Python 3 (ipykernel)",
   "language": "python",
   "name": "python3"
  },
  "language_info": {
   "codemirror_mode": {
    "name": "ipython",
    "version": 2
   },
   "file_extension": ".py",
   "mimetype": "text/x-python",
   "name": "python",
   "nbconvert_exporter": "python",
   "pygments_lexer": "ipython2",
   "version": "2.7.11"
  },
  "colab": {
   "provenance": []
  }
 },
 "nbformat": 4,
 "nbformat_minor": 0
}
