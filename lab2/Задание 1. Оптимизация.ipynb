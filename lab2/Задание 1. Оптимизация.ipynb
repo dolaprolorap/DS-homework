{
 "cells": [
  {
   "cell_type": "markdown",
   "metadata": {
    "id": "hH9lKOSwUmnb"
   },
   "source": [
    "# Assignment: Оптимизация в Python: глобальная оптимизация и оптимизация негладкой функции\n",
    "\n",
    "### Введение\n",
    "\n",
    "Сначала вы решите задачу поиска минимума функции с помощью одного из градиентных методов оптимизации, затем увидите отличия в работе градиентного метода и одного из методов глобальной оптимизации, а в заключение – найдете глобальный минимум негладкой функции, т.е. функции, у которой не всегда определен градиент.\n",
    "\n",
    "Понимание задачи глобальной оптимизации и отличий градиентных методов, от методов, не использующих градиент, очень полезно в задачах анализа данных, в частности, для подбора параметров алгоритмов.\n",
    "### Материалы\n",
    "\n",
    "    Справка по функциям пакета scipy.optimize: http://docs.scipy.org/doc/scipy/reference/optimize.html\n",
    "    Matplotlib User Guide: http://matplotlib.org/users/index.html\n",
    "\n",
    "### Инструкция по выполнению\n",
    "\n",
    "Данное задание состоит из трех частей. В каждой ответом будет набор чисел"
   ]
  },
  {
   "cell_type": "markdown",
   "metadata": {
    "id": "6QfxSvMXUmnd"
   },
   "source": [
    "## Задача 1. Минимизация гладкой функции\n",
    "\n",
    "1. Рассмотрим все ту же функцию из задания по линейной алгебре: f(x) = sin(x / 5) * exp(x / 10) + 5 * exp(-x / 2), но теперь уже на промежутке [1, 30]\n",
    "2. В первом задании будем искать минимум этой функции на заданном промежутке с помощью scipy.optimize. Разумеется, в дальнейшем вы будете использовать методы оптимизации для более сложных функций, а f(x) мы рассмотрим как удобный учебный пример.\n",
    "3. Напишите на Питоне функцию, вычисляющую значение f(x) по известному x. Будьте внимательны: не забывайте про то, что по умолчанию в питоне целые числа делятся нацело, и о том, что функции sin и exp нужно импортировать из модуля math.\n",
    "4. Попробуйте найти минимум, используя стандартные параметры в функции scipy.optimize.minimize (т.е. задав только функцию и начальное приближение). Попробуйте менять начальное приближение и изучить, меняется ли результат.\n",
    "5. Укажите в scipy.optimize.minimize в качестве метода BFGS (один из самых точных в большинстве случаев градиентных методов оптимизации), запустите из начального приближения x=2. Градиент функции при этом указывать не нужно – он будет оценен численно. Полученное значение функции в точке минимума - ваш первый ответ по заданию 1.\n",
    "6. Теперь измените начальное приближение на x=30. Значение функции в точке минимума - ваш второй ответ по заданию 1.\n",
    "7. Стоит обдумать полученный результат. Почему ответ отличается в зависимости от начального приближения? Если нарисовать график функции, можно увидеть, в какие именно минимумы мы попали."
   ]
  },
  {
   "metadata": {
    "ExecuteTime": {
     "end_time": "2024-10-25T14:59:31.892715Z",
     "start_time": "2024-10-25T14:59:31.890061Z"
    }
   },
   "cell_type": "code",
   "source": [
    "import numpy as np\n",
    "import scipy\n",
    "\n",
    "\n",
    "f_bounds = (1, 30)\n",
    "\n",
    "def f(x: float) -> float:\n",
    "    return np.sin(x / 5) * np.exp(x / 10) + 5 * np.exp(-x / 2)\n",
    "    "
   ],
   "outputs": [],
   "execution_count": 108
  },
  {
   "metadata": {},
   "cell_type": "markdown",
   "source": "Проверим, как меняется значение функции в зависимости от начального приближения"
  },
  {
   "metadata": {
    "ExecuteTime": {
     "end_time": "2024-10-25T14:59:31.931690Z",
     "start_time": "2024-10-25T14:59:31.915958Z"
    }
   },
   "cell_type": "code",
   "source": [
    "start_values = [1, 1.1, 1.2, 1.5, 2, 3.5, 5, 15, 20, 25, 30]\n",
    "\n",
    "for start_value in start_values:\n",
    "    opt_res = scipy.optimize.minimize(lambda arr: f(arr[0]), start_value, bounds=(f_bounds, ))\n",
    "    opt_x = opt_res.x.item()\n",
    "    opt_f = opt_res.fun\n",
    "    print(f\"start:{start_value}, argmin:{opt_x}, min f:{opt_f}\")\n",
    "    "
   ],
   "outputs": [
    {
     "name": "stdout",
     "output_type": "stream",
     "text": [
      "start:1, argmin:4.136288463186312, min f:1.745268290331977\n",
      "start:1.1, argmin:4.136288307650032, min f:1.7452682903319854\n",
      "start:1.2, argmin:4.136288219386162, min f:1.7452682903319916\n",
      "start:1.5, argmin:4.1362887833649875, min f:1.7452682903319734\n",
      "start:2, argmin:4.1362760396269405, min f:1.7452682903452363\n",
      "start:3.5, argmin:4.13628804725182, min f:1.7452682903320076\n",
      "start:5, argmin:4.13628873017476, min f:1.7452682903319725\n",
      "start:15, argmin:25.880187401299192, min f:-11.898894665971893\n",
      "start:20, argmin:25.880193031957244, min f:-11.898894665981322\n",
      "start:25, argmin:25.88018631745339, min f:-11.898894665967914\n",
      "start:30, argmin:25.880193089892767, min f:-11.898894665981322\n"
     ]
    }
   ],
   "execution_count": 109
  },
  {
   "metadata": {
    "ExecuteTime": {
     "end_time": "2024-10-25T14:59:31.938322Z",
     "start_time": "2024-10-25T14:59:31.933122Z"
    }
   },
   "cell_type": "code",
   "source": [
    "# L-BFGS-B вместо обычного BFGS, чтобы учесть границы, тк обычный метод их не поддерживает\n",
    "bfgs_opt = scipy.optimize.minimize(lambda arr: f(arr[0]), np.array([2]), method='L-BFGS-B', bounds=(f_bounds, ))\n",
    "print(f\"{bfgs_opt.x} : {bfgs_opt.fun}\")\n"
   ],
   "outputs": [
    {
     "name": "stdout",
     "output_type": "stream",
     "text": [
      "[4.13627604] : 1.7452682903452363\n"
     ]
    }
   ],
   "execution_count": 110
  },
  {
   "metadata": {},
   "cell_type": "markdown",
   "source": "Ответ 1.1: 1.7452682903452363\n"
  },
  {
   "metadata": {
    "ExecuteTime": {
     "end_time": "2024-10-25T14:59:31.944195Z",
     "start_time": "2024-10-25T14:59:31.939508Z"
    }
   },
   "cell_type": "code",
   "source": [
    "# L-BFGS-B вместо обычного BFGS, чтобы учесть границы, тк обычный метод их не поддерживает\n",
    "bfgs_opt = scipy.optimize.minimize(lambda arr: f(arr[0]), np.array([30]), method='L-BFGS-B', bounds=(f_bounds, ))\n",
    "print(f\"{bfgs_opt.x} : {bfgs_opt.fun}\")\n"
   ],
   "outputs": [
    {
     "name": "stdout",
     "output_type": "stream",
     "text": [
      "[25.88019309] : -11.898894665981322\n"
     ]
    }
   ],
   "execution_count": 111
  },
  {
   "metadata": {},
   "cell_type": "markdown",
   "source": [
    "Ответ 1.2: -11.898894665981322 \n",
    "Если посмотреть на график функции на [1, 30] и расположить на нем начальные точки, то можно заметить,\n",
    "что минимум функции выбирается ближайший к начальной точке\n"
   ]
  },
  {
   "cell_type": "markdown",
   "metadata": {
    "id": "9WVTF6eUUmnf"
   },
   "source": [
    "## Задача 2: Глобальная оптимизация\n",
    "\n",
    "1. Теперь попробуем применить к той же функции f(x) метод глобальной оптимизации - дифференциальную эволюцию.\n",
    "2. Изучите документацию и примеры использования функции scipy.optimize.differential_evolution.\n",
    "3. Обратите внимание, что границы значений аргументов функции представляют собой список кортежей (list, в который помещены объекты типа tuple). Даже если у вас функция одного аргумента, возьмите границы его значений в квадратные скобки, чтобы передавать в этом параметре список из одного кортежа, т.к. в реализации scipy.optimize.differential_evolution длина этого списка используется чтобы определить количество аргументов функции.\n",
    "4. Запустите поиск минимума функции f(x) с помощью дифференциальной эволюции на промежутке [1, 30]. Полученное значение функции в точке минимума - ответ в задаче 2. Запишите его с точностью до второго знака после запятой. В этой задаче ответ - только одно число.\n",
    "5.Дифференциальная эволюция справилась с задачей поиска глобального минимума на отрезке, т.к. по своему устройству она предполагает борьбу с попаданием в локальные минимумы.\n",
    "6. Сравните количество итераций, потребовавшихся BFGS для нахождения минимума при хорошем начальном приближении, с количеством итераций, потребовавшихся дифференциальной эволюции. При повторных запусках дифференциальной эволюции количество итераций будет меняться, но в этом примере, скорее всего, оно всегда будет сравнимым с количеством итераций BFGS. Однако в дифференциальной эволюции за одну итерацию требуется выполнить гораздо больше действий, чем в BFGS. Например, можно обратить внимание на количество вычислений значения функции (nfev) и увидеть, что у BFGS оно значительно меньше. Кроме того, время работы дифференциальной эволюции очень быстро растет с увеличением числа аргументов функции."
   ]
  },
  {
   "metadata": {
    "ExecuteTime": {
     "end_time": "2024-10-25T14:59:31.951843Z",
     "start_time": "2024-10-25T14:59:31.945029Z"
    }
   },
   "cell_type": "code",
   "source": [
    "evol_opt = scipy.optimize.differential_evolution(lambda arr: f(arr[0]), bounds=[f_bounds])\n",
    "print(f\"{evol_opt.x} : {evol_opt.fun}\")\n",
    "print(f\"rounded: {np.round(evol_opt.fun, 2)}\")\n"
   ],
   "outputs": [
    {
     "name": "stdout",
     "output_type": "stream",
     "text": [
      "[25.88019656] : -11.898894665977611\n",
      "rounded: -11.9\n"
     ]
    }
   ],
   "execution_count": 112
  },
  {
   "metadata": {},
   "cell_type": "markdown",
   "source": "Ответ 2.1: -11.90\n"
  },
  {
   "metadata": {
    "ExecuteTime": {
     "end_time": "2024-10-25T14:59:31.956215Z",
     "start_time": "2024-10-25T14:59:31.953215Z"
    }
   },
   "cell_type": "code",
   "source": [
    "print(f\"BFGS iteration: {bfgs_opt.nit}\")\n",
    "print(f\"Dif. evolution: {evol_opt.nit}\")\n"
   ],
   "outputs": [
    {
     "name": "stdout",
     "output_type": "stream",
     "text": [
      "BFGS iteration: 5\n",
      "Dif. evolution: 4\n"
     ]
    }
   ],
   "execution_count": 113
  },
  {
   "metadata": {},
   "cell_type": "markdown",
   "source": [
    "BFGS iteration: 5\n",
    "Dif. evolution: 4 (5, 6)\n",
    "Заметим, что кол-во итераций для метода диф. эволюции меняется от 4 до 6, в то время как BFGS стабильно считает за 5 шагов\n"
   ]
  },
  {
   "cell_type": "markdown",
   "metadata": {
    "id": "hP8wiBxiUmnf"
   },
   "source": [
    "## Задача 3. Минимизация негладкой функции\n",
    "\n",
    "1. Теперь рассмотрим функцию h(x) = int(f(x)) на том же отрезке [1, 30], т.е. теперь каждое значение f(x) приводится к типу int и функция принимает только целые значения.\n",
    "2. Такая функция будет негладкой и даже разрывной, а ее график будет иметь ступенчатый вид. Постройте график h(x) с помощью matplotlib.\n",
    "3. Попробуйте найти минимум функции h(x) с помощью BFGS, взяв в качестве начального приближения x=30. Получившееся значение функции – ваш первый ответ в этой задаче.\n",
    "4. Теперь попробуйте найти минимум h(x) на отрезке [1, 30] с помощью дифференциальной эволюции. Значение функции h(x) в точке минимума – это ваш второй ответ в этом задании.\n",
    "5. Обратите внимание на то, что полученные ответы различаются. Это ожидаемый результат, ведь BFGS использует градиент (в одномерном случае – производную) и явно не пригоден для минимизации рассмотренной нами разрывной функции. Попробуйте понять, почему минимум, найденный BFGS, именно такой (возможно в этом вам поможет выбор разных начальных приближений)."
   ]
  },
  {
   "metadata": {
    "ExecuteTime": {
     "end_time": "2024-10-25T14:59:31.959201Z",
     "start_time": "2024-10-25T14:59:31.957144Z"
    }
   },
   "cell_type": "code",
   "source": [
    "def h(x: float) -> int:\n",
    "    return int(f(x))"
   ],
   "outputs": [],
   "execution_count": 114
  },
  {
   "metadata": {
    "ExecuteTime": {
     "end_time": "2024-10-25T15:04:39.657597Z",
     "start_time": "2024-10-25T15:04:39.588757Z"
    }
   },
   "cell_type": "code",
   "source": [
    "import matplotlib.pyplot as plt\n",
    "\n",
    "x = np.linspace(f_bounds[0], f_bounds[1], 100)\n",
    "h_vec = np.vectorize(h)\n",
    "plt.plot(x, h_vec(x))\n",
    "plt.show()\n"
   ],
   "outputs": [
    {
     "data": {
      "text/plain": [
       "<Figure size 640x480 with 1 Axes>"
      ],
      "image/png": "[encoded data removed]"
     },
     "metadata": {},
     "output_type": "display_data"
    }
   ],
   "execution_count": 118
  },
  {
   "metadata": {
    "ExecuteTime": {
     "end_time": "2024-10-25T15:07:17.143303Z",
     "start_time": "2024-10-25T15:07:17.133211Z"
    }
   },
   "cell_type": "code",
   "source": [
    "bfgs_h_opt = scipy.optimize.minimize(lambda arr: h(arr[0]), np.array([30]), method='L-BFGS-B', bounds=(f_bounds, ))\n",
    "bfgs_h_opt.fun"
   ],
   "outputs": [
    {
     "data": {
      "text/plain": [
       "-5"
      ]
     },
     "execution_count": 120,
     "metadata": {},
     "output_type": "execute_result"
    }
   ],
   "execution_count": 120
  },
  {
   "metadata": {},
   "cell_type": "markdown",
   "source": "Ответ 3.1: -5"
  },
  {
   "metadata": {
    "ExecuteTime": {
     "end_time": "2024-10-25T15:10:12.035994Z",
     "start_time": "2024-10-25T15:10:12.025883Z"
    }
   },
   "cell_type": "code",
   "source": [
    "diff_h_opt = scipy.optimize.differential_evolution(lambda arr: h(arr[0]), bounds=[f_bounds])\n",
    "diff_h_opt.fun"
   ],
   "outputs": [
    {
     "data": {
      "text/plain": [
       "np.float64(-11.0)"
      ]
     },
     "execution_count": 122,
     "metadata": {},
     "output_type": "execute_result"
    }
   ],
   "execution_count": 122
  },
  {
   "metadata": {},
   "cell_type": "markdown",
   "source": [
    "Ответ 3.2: -11\n",
    "\n",
    "\n",
    "Полученные ответы объясняются тем, что, тк BFGS использует производную функции, а производная ступенчатой функции представляет и себя график y=0 с точками разрыва в точках, где функция меняет своё значение, а следовательно, с начального приближения метод оптимизации и не сдвинется\n"
   ]
  },
  {
   "metadata": {},
   "cell_type": "code",
   "outputs": [],
   "execution_count": null,
   "source": ""
  }
 ],
 "metadata": {
  "kernelspec": {
   "display_name": "Python 3 (ipykernel)",
   "language": "python",
   "name": "python3"
  },
  "language_info": {
   "codemirror_mode": {
    "name": "ipython",
    "version": 2
   },
   "file_extension": ".py",
   "mimetype": "text/x-python",
   "name": "python",
   "nbconvert_exporter": "python",
   "pygments_lexer": "ipython2",
   "version": "2.7.5"
  },
  "colab": {
   "provenance": []
  }
 },
 "nbformat": 4,
 "nbformat_minor": 0
}
